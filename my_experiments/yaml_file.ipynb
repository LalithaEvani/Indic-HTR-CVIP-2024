{
 "cells": [
  {
   "cell_type": "code",
   "execution_count": 2,
   "metadata": {},
   "outputs": [
    {
     "name": "stdout",
     "output_type": "stream",
     "text": [
      "Unique characters saved to unique_characters.txt\n"
     ]
    }
   ],
   "source": [
    "# Character sets\n",
    "char_set_1 = \"0123456789\\\"',.:;?-_!#$%&()*+/<=>@[]^{|}~ \\\\।॥ఀఁంః\tఄఅఆఇఈఉఊఋఌఎఏఐఒఓఔకఖగఘఙచఛజఝఞటఠడఢణతథదధనపఫబభమయరఱలళఴవశషసహ఼ఽాిీుూృౄెేైొోౌ్ౕౖౘౙౚౝౠౡౢౣ౦౧౨౩౪౫౬౭౮౯౷౸౹౺౻౼౽౾౿\\u200c\"\n",
    "char_set_2 = \"0123456789\\\"',.:;?-_!#$%&()*+/<=>@[]^{|}~ \\\\।॥ஂஃஅஆஇஈஉஊஎஏஐஒஓஔகஙசஜஞடணதநனபமயரறலளழவஶஷஸஹாிீுூெேைொோௌ்ௐௗ௦௧௨௩௪௫௬௭௮௯௰௱௲௳௴௵௶௷௸௹௺\"\n",
    "char_set_3 = \"0123456789\\\"',.:;?-_!#$%&()*+/<=>@[]^{|}~ \\\\।॥ഀഁംഃഄഅആഇഈഉഊഋഌഎഏഐഒഓഔകഖഗഘങചഛജഝഞടഠഡഢണതഥദധനഩപഫബഭമയരറലളഴവശഷസഹഺ഻഼ഽാിീുൂൃൄെേൈൊോൌ്ൎ ൏ൔൕൖൗ൘൙൚൛൜൝൞ൟൠൡൢൣ൦൧൨൩൪൫൬൭൮൯൰൱൲൳൴൵൶൷൸൹ൺൻർൽൾൿ\\u200d\\u200c\"\n",
    "char_set_4 = \"0123456789\\\"',.:;?-_!#$%&()*+/<=>@[]^{|}~ \\\\।॥ಂಃ಄ಅಆಇಈಉಊಋಌಎಏಐಒಓಔಕಖಗಘಙಚಛಜಝಞಟಠಡಢಣತಥದಧನಪಫಬಭಮಯರಱಲಳವಶಷಸಹ಼ಽಾಿೀುೂೃೄೆೇೈೊೋೌ್ೕೖೝೞೠೡೢೣ೦೧೨೩೪೫೬೭೮೯ \\u200c\\u200d\\u0952\"\n",
    "\n",
    "# Step 1: Convert characters to Unicode\n",
    "unicode_list_1 = [ord(char) for char in char_set_1]\n",
    "unicode_list_2 = [ord(char) for char in char_set_2]\n",
    "unicode_list_3 = [ord(char) for char in char_set_3]\n",
    "unicode_list_4 = [ord(char) for char in char_set_4]\n",
    "\n",
    "# Step 2: Combine lists\n",
    "combined_unicode_list = unicode_list_1 + unicode_list_2 + unicode_list_3 + unicode_list_4\n",
    "\n",
    "# Step 3: Remove duplicates\n",
    "unique_unicode_list = list(set(combined_unicode_list))\n",
    "\n",
    "# Step 4: Convert Unicode back to characters\n",
    "unique_chars = ''.join([chr(unicode_val) for unicode_val in unique_unicode_list])\n",
    "\n",
    "# Step 5: Save to a txt file\n",
    "with open('combined_lang_2.txt', 'w') as file:\n",
    "    file.write(unique_chars)\n",
    "\n",
    "print(\"Unique characters saved to unique_characters.txt\")\n",
    "\n"
   ]
  },
  {
   "cell_type": "code",
   "execution_count": 3,
   "metadata": {},
   "outputs": [
    {
     "name": "stdout",
     "output_type": "stream",
     "text": [
      "DONE\n"
     ]
    }
   ],
   "source": [
    "# Character sets\n",
    "char_set_1 = \"0123456789\\\"',.:;?-_!#$%&()*+/<=>@[]^{|}~ \\\\।॥ଁଂଃଅଆଇଈଉଊଋଌଏଐଓଔକଖଗଘଙଚଛଜଝଞଟଠଡଢଣତଥଦଧନପଫବଭମଯରଲଳଵଶଷସହ଼ଽାିୀୁୂୃୄେୈୋୌ୍  ୕ୖୗଡ଼ଢ଼ୟୠୡୢୣ୦୧୨୩୪୫୬୭୮୯୰ୱ୲୳୴୵୶୷\\u200d\\u200c\"\n",
    "char_set_2 = \"0123456789\\\"',.:;?-_!#$%&()*+/<=>@[]^{|}~ \\\\।॥ಂಃ಄ಅಆಇಈಉಊಋಌಎಏಐಒಓಔಕಖಗಘಙಚಛಜಝಞಟಠಡಢಣತಥದಧನಪಫಬಭಮಯರಱಲಳವಶಷಸಹ಼ಽಾಿೀುೂೃೄೆೇೈೊೋೌ್ೕೖೝೞೠೡೢೣ೦೧೨೩೪೫೬೭೮೯ \\u200c\\u200d\\u0952\"\n",
    "\n",
    "# Step 1: Convert characters to Unicode\n",
    "unicode_list_1 = [ord(char) for char in char_set_1]\n",
    "unicode_list_2 = [ord(char) for char in char_set_2]\n",
    "\n",
    "\n",
    "# Step 2: Combine lists\n",
    "combined_unicode_list = unicode_list_1 + unicode_list_2 \n",
    "\n",
    "# Step 3: Remove duplicates\n",
    "unique_unicode_list = list(set(combined_unicode_list))\n",
    "\n",
    "# Step 4: Convert Unicode back to characters\n",
    "unique_chars = ''.join([chr(unicode_val) for unicode_val in unique_unicode_list])\n",
    "\n",
    "# Step 5: Save to a txt file\n",
    "with open('combined_lang_3.txt', 'w') as file:\n",
    "    file.write(unique_chars)\n",
    "\n",
    "print(\"DONE\")\n",
    "\n"
   ]
  },
  {
   "cell_type": "code",
   "execution_count": 4,
   "metadata": {},
   "outputs": [
    {
     "name": "stdout",
     "output_type": "stream",
     "text": [
      "DONE\n"
     ]
    }
   ],
   "source": [
    "# Character sets\n",
    "char_set_1 = \"0123456789\\\"',.:;?-_!#$%&()*+/<=>@[]^{|}~ \\\\ऀँंःऄअआइईउऊऋऌऍऎएऐऑऒओऔकखगघङचछजझञटठडढणतथदधनऩपफबभमयरऱलळऴवशषसहऺऻ़ऽािीुूृॄॅॆेैॉॊोौ्ॎॏॐ॒॑॓॔ॕॖॗक़ख़ग़ज़ड़ढ़फ़य़ॠॡॢॣ॰ॱॲॳॴॵॶॷॸॹॺॻॼॽॾॿ।॥०१२३४५६७८९\\u200c\"\n",
    "char_set_2 = \"0123456789\\\"'.,:;?-_!#$%&()*+/<=>@[]^{|।॥}~\\\\ઁંઃઅઆઇઈઉઊઋઌઍએઐઑઓઔકખગઘઙચછજઝઞટઠડઢણતથદધનપફબભમયરલળવશષસહ઼ઽાિીુૂૃૄૅેૈૉોૌ્ૐૠૡૢૣ૦૧૨૩૪૫૬૭૮૯૰૱ૹ\"\n",
    "\n",
    "# Step 1: Convert characters to Unicode\n",
    "unicode_list_1 = [ord(char) for char in char_set_1]\n",
    "unicode_list_2 = [ord(char) for char in char_set_2]\n",
    "\n",
    "\n",
    "# Step 2: Combine lists\n",
    "combined_unicode_list = unicode_list_1 + unicode_list_2 \n",
    "\n",
    "# Step 3: Remove duplicates\n",
    "unique_unicode_list = list(set(combined_unicode_list))\n",
    "\n",
    "# Step 4: Convert Unicode back to characters\n",
    "unique_chars = ''.join([chr(unicode_val) for unicode_val in unique_unicode_list])\n",
    "\n",
    "# Step 5: Save to a txt file\n",
    "with open('combined_lang_4.txt', 'w') as file:\n",
    "    file.write(unique_chars)\n",
    "\n",
    "print(\"DONE\")\n",
    "\n"
   ]
  },
  {
   "cell_type": "code",
   "execution_count": 1,
   "metadata": {},
   "outputs": [
    {
     "name": "stdout",
     "output_type": "stream",
     "text": [
      "DONE\n"
     ]
    }
   ],
   "source": [
    "# Character sets hindi + bengali\n",
    "# removed some characters from original charset in configs for bengali\n",
    "char_set_1 = \"0123456789\\\"',.:;?-_!#$%&()*+/<=>@[]^{|}~ \\\\ऀँंःऄअआइईउऊऋऌऍऎएऐऑऒओऔकखगघङचछजझञटठडढणतथदधनऩपफबभमयरऱलळऴवशषसहऺऻ़ऽािीुूृॄॅॆेैॉॊोौ्ॎॏॐ॒॑॓॔ॕॖॗक़ख़ग़ज़ड़ढ़फ़य़ॠॡॢॣ॰ॱॲॳॴॵॶॷॸॹॺॻॼॽॾॿ।॥०१२३४५६७८९\\u200c\"\n",
    "char_set_2 = \"0123456789\\\"',.:;?-‾_!#$%&()*+/<=>@[]^{|}~\\\\।॥ঀঁংঃঅআইঈউঊঋঌএঐওঔকখগঘঙচছজঝঞটঠডঢণতথদধনপফবভমযরলশষসহ়ঽািীুূৃৄেৈোৌ্ৎৗড়ঢ়য়ৠৡৢৣ০১২৩৪৫৬৭৮৯ৰৱ৲৳৴৵৶৷৸৹৺৻ৼ৽ \\u200c\\u200d\"\n",
    "\n",
    "# Step 1: Convert characters to Unicode\n",
    "unicode_list_1 = [ord(char) for char in char_set_1]\n",
    "unicode_list_2 = [ord(char) for char in char_set_2]\n",
    "\n",
    "\n",
    "# Step 2: Combine lists\n",
    "combined_unicode_list = unicode_list_1 + unicode_list_2 \n",
    "\n",
    "# Step 3: Remove duplicates\n",
    "unique_unicode_list = list(set(combined_unicode_list))\n",
    "\n",
    "# Step 4: Convert Unicode back to characters\n",
    "unique_chars = ''.join([chr(unicode_val) for unicode_val in unique_unicode_list])\n",
    "\n",
    "# Step 5: Save to a txt file\n",
    "with open('combined_lang_5.txt', 'w') as file:\n",
    "    file.write(unique_chars)\n",
    "\n",
    "print(\"DONE\")\n",
    "\n"
   ]
  }
 ],
 "metadata": {
  "kernelspec": {
   "display_name": "parseq",
   "language": "python",
   "name": "python3"
  },
  "language_info": {
   "codemirror_mode": {
    "name": "ipython",
    "version": 3
   },
   "file_extension": ".py",
   "mimetype": "text/x-python",
   "name": "python",
   "nbconvert_exporter": "python",
   "pygments_lexer": "ipython3",
   "version": "3.9.18"
  }
 },
 "nbformat": 4,
 "nbformat_minor": 2
}
